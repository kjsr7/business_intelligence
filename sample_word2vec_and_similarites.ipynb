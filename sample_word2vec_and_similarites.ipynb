{
 "cells": [
  {
   "cell_type": "code",
   "execution_count": 1,
   "metadata": {},
   "outputs": [],
   "source": [
    "import nltk"
   ]
  },
  {
   "cell_type": "code",
   "execution_count": 2,
   "metadata": {},
   "outputs": [
    {
     "name": "stdout",
     "output_type": "stream",
     "text": [
      "[nltk_data] Downloading package brown to /home/jai/nltk_data...\n",
      "[nltk_data]   Unzipping corpora/brown.zip.\n"
     ]
    },
    {
     "data": {
      "text/plain": [
       "True"
      ]
     },
     "execution_count": 2,
     "metadata": {},
     "output_type": "execute_result"
    }
   ],
   "source": [
    "nltk.download('brown')"
   ]
  },
  {
   "cell_type": "code",
   "execution_count": 7,
   "metadata": {},
   "outputs": [],
   "source": [
    "from nltk.corpus import brown"
   ]
  },
  {
   "cell_type": "code",
   "execution_count": 5,
   "metadata": {},
   "outputs": [
    {
     "name": "stdout",
     "output_type": "stream",
     "text": [
      "Collecting gensim\n",
      "  Downloading https://files.pythonhosted.org/packages/27/a4/d10c0acc8528d838cda5eede0ee9c784caa598dbf40bd0911ff8d067a7eb/gensim-3.6.0-cp36-cp36m-manylinux1_x86_64.whl (23.6MB)\n",
      "\u001b[K    100% |████████████████████████████████| 23.6MB 53kB/s eta 0:00:011% |                                | 30kB 75kB/s eta 0:05:12    59% |███████████████████             | 14.0MB 442kB/s eta 0:00:22\n",
      "\u001b[?25hCollecting six>=1.5.0 (from gensim)\n",
      "  Using cached https://files.pythonhosted.org/packages/67/4b/141a581104b1f6397bfa78ac9d43d8ad29a7ca43ea90a2d863fe3056e86a/six-1.11.0-py2.py3-none-any.whl\n",
      "Collecting smart-open>=1.2.1 (from gensim)\n",
      "  Downloading https://files.pythonhosted.org/packages/4b/1f/6f27e3682124de63ac97a0a5876da6186de6c19410feab66c1543afab055/smart_open-1.7.1.tar.gz\n",
      "Collecting scipy>=0.18.1 (from gensim)\n",
      "  Downloading https://files.pythonhosted.org/packages/a8/0b/f163da98d3a01b3e0ef1cab8dd2123c34aee2bafbb1c5bffa354cc8a1730/scipy-1.1.0-cp36-cp36m-manylinux1_x86_64.whl (31.2MB)\n",
      "\u001b[K    100% |████████████████████████████████| 31.2MB 40kB/s eta 0:00:011   38% |████████████▍                   | 12.1MB 1.4MB/s eta 0:00:14    40% |█████████████                   | 12.6MB 419kB/s eta 0:00:45    84% |███████████████████████████     | 26.4MB 769kB/s eta 0:00:07    87% |███████████████████████████▉    | 27.1MB 1.2MB/s eta 0:00:04\n",
      "\u001b[?25hCollecting numpy>=1.11.3 (from gensim)\n",
      "\u001b[33m  Cache entry deserialization failed, entry ignored\u001b[0m\n",
      "  Downloading https://files.pythonhosted.org/packages/22/02/bae88c4aaea4256d890adbf3f7cf33e59a443f9985cf91cd08a35656676a/numpy-1.15.2-cp36-cp36m-manylinux1_x86_64.whl (13.9MB)\n",
      "\u001b[K    100% |████████████████████████████████| 13.9MB 99kB/s eta 0:00:01\n",
      "\u001b[?25hCollecting boto3 (from smart-open>=1.2.1->gensim)\n",
      "  Downloading https://files.pythonhosted.org/packages/f8/fe/76fc5a00b0ef8cd7958f2b71e7c442f01ff3883c6f3720a64ddef6b6680b/boto3-1.9.21-py2.py3-none-any.whl (128kB)\n",
      "\u001b[K    100% |████████████████████████████████| 133kB 706kB/s ta 0:00:01\n",
      "\u001b[?25hCollecting boto>=2.32 (from smart-open>=1.2.1->gensim)\n",
      "  Downloading https://files.pythonhosted.org/packages/23/10/c0b78c27298029e4454a472a1919bde20cb182dab1662cec7f2ca1dcc523/boto-2.49.0-py2.py3-none-any.whl (1.4MB)\n",
      "\u001b[K    100% |████████████████████████████████| 1.4MB 531kB/s ta 0:00:011\n",
      "\u001b[?25hCollecting bz2file (from smart-open>=1.2.1->gensim)\n",
      "  Downloading https://files.pythonhosted.org/packages/61/39/122222b5e85cd41c391b68a99ee296584b2a2d1d233e7ee32b4532384f2d/bz2file-0.98.tar.gz\n",
      "Collecting requests (from smart-open>=1.2.1->gensim)\n",
      "  Downloading https://files.pythonhosted.org/packages/65/47/7e02164a2a3db50ed6d8a6ab1d6d60b69c4c3fdf57a284257925dfc12bda/requests-2.19.1-py2.py3-none-any.whl (91kB)\n",
      "\u001b[K    100% |████████████████████████████████| 92kB 1.6MB/s ta 0:00:011\n",
      "\u001b[?25hCollecting jmespath<1.0.0,>=0.7.1 (from boto3->smart-open>=1.2.1->gensim)\n",
      "  Downloading https://files.pythonhosted.org/packages/b7/31/05c8d001f7f87f0f07289a5fc0fc3832e9a57f2dbd4d3b0fee70e0d51365/jmespath-0.9.3-py2.py3-none-any.whl\n",
      "Collecting s3transfer<0.2.0,>=0.1.10 (from boto3->smart-open>=1.2.1->gensim)\n",
      "  Downloading https://files.pythonhosted.org/packages/d7/14/2a0004d487464d120c9fb85313a75cd3d71a7506955be458eebfe19a6b1d/s3transfer-0.1.13-py2.py3-none-any.whl (59kB)\n",
      "\u001b[K    100% |████████████████████████████████| 61kB 1.4MB/s ta 0:00:01\n",
      "\u001b[?25hCollecting botocore<1.13.0,>=1.12.21 (from boto3->smart-open>=1.2.1->gensim)\n",
      "  Downloading https://files.pythonhosted.org/packages/2f/1a/802af8dba189138768281b0278cec9bfed0025b5cc64de5cf1d1e5f271b3/botocore-1.12.21-py2.py3-none-any.whl (4.7MB)\n",
      "\u001b[K    100% |████████████████████████████████| 4.7MB 215kB/s ta 0:00:011\n",
      "\u001b[?25hCollecting certifi>=2017.4.17 (from requests->smart-open>=1.2.1->gensim)\n",
      "  Downloading https://files.pythonhosted.org/packages/df/f7/04fee6ac349e915b82171f8e23cee63644d83663b34c539f7a09aed18f9e/certifi-2018.8.24-py2.py3-none-any.whl (147kB)\n",
      "\u001b[K    100% |████████████████████████████████| 153kB 520kB/s ta 0:00:01\n",
      "\u001b[?25hCollecting idna<2.8,>=2.5 (from requests->smart-open>=1.2.1->gensim)\n",
      "  Downloading https://files.pythonhosted.org/packages/4b/2a/0276479a4b3caeb8a8c1af2f8e4355746a97fab05a372e4a2c6a6b876165/idna-2.7-py2.py3-none-any.whl (58kB)\n",
      "\u001b[K    100% |████████████████████████████████| 61kB 1.2MB/s ta 0:00:011\n",
      "\u001b[?25hCollecting urllib3<1.24,>=1.21.1 (from requests->smart-open>=1.2.1->gensim)\n",
      "  Downloading https://files.pythonhosted.org/packages/bd/c9/6fdd990019071a4a32a5e7cb78a1d92c53851ef4f56f62a3486e6a7d8ffb/urllib3-1.23-py2.py3-none-any.whl (133kB)\n",
      "\u001b[K    100% |████████████████████████████████| 143kB 1.8MB/s ta 0:00:01\n",
      "\u001b[?25hCollecting chardet<3.1.0,>=3.0.2 (from requests->smart-open>=1.2.1->gensim)\n",
      "  Downloading https://files.pythonhosted.org/packages/bc/a9/01ffebfb562e4274b6487b4bb1ddec7ca55ec7510b22e4c51f14098443b8/chardet-3.0.4-py2.py3-none-any.whl (133kB)\n",
      "\u001b[K    100% |████████████████████████████████| 143kB 2.1MB/s ta 0:00:01\n",
      "\u001b[?25hCollecting docutils>=0.10 (from botocore<1.13.0,>=1.12.21->boto3->smart-open>=1.2.1->gensim)\n",
      "  Downloading https://files.pythonhosted.org/packages/36/fa/08e9e6e0e3cbd1d362c3bbee8d01d0aedb2155c4ac112b19ef3cae8eed8d/docutils-0.14-py3-none-any.whl (543kB)\n",
      "\u001b[K    100% |████████████████████████████████| 552kB 697kB/s ta 0:00:01\n",
      "\u001b[?25hCollecting python-dateutil<3.0.0,>=2.1; python_version >= \"2.7\" (from botocore<1.13.0,>=1.12.21->boto3->smart-open>=1.2.1->gensim)\n",
      "  Downloading https://files.pythonhosted.org/packages/cf/f5/af2b09c957ace60dcfac112b669c45c8c97e32f94aa8b56da4c6d1682825/python_dateutil-2.7.3-py2.py3-none-any.whl (211kB)\n",
      "\u001b[K    100% |████████████████████████████████| 215kB 1.3MB/s ta 0:00:01\n",
      "\u001b[?25hBuilding wheels for collected packages: smart-open, bz2file\n",
      "  Running setup.py bdist_wheel for smart-open ... \u001b[?25ldone\n",
      "\u001b[?25h  Stored in directory: /home/jai/.cache/pip/wheels/23/00/44/e5b939f7a80c04e32297dbd6d96fa3065af89ecf57e2b5f89f\n",
      "  Running setup.py bdist_wheel for bz2file ... \u001b[?25ldone\n",
      "\u001b[?25h  Stored in directory: /home/jai/.cache/pip/wheels/81/75/d6/e1317bf09bf1af5a30befc2a007869fa6e1f516b8f7c591cb9\n",
      "Successfully built smart-open bz2file\n",
      "Installing collected packages: six, jmespath, docutils, python-dateutil, urllib3, botocore, s3transfer, boto3, boto, bz2file, certifi, idna, chardet, requests, smart-open, numpy, scipy, gensim\n",
      "Successfully installed boto-2.49.0 boto3-1.9.21 botocore-1.12.21 bz2file-0.98 certifi-2018.8.24 chardet-3.0.4 docutils-0.14 gensim-3.6.0 idna-2.7 jmespath-0.9.3 numpy-1.15.2 python-dateutil-2.7.3 requests-2.19.1 s3transfer-0.1.13 scipy-1.1.0 six-1.11.0 smart-open-1.7.1 urllib3-1.23\n"
     ]
    }
   ],
   "source": [
    "!pip install gensim"
   ]
  },
  {
   "cell_type": "code",
   "execution_count": 8,
   "metadata": {},
   "outputs": [
    {
     "name": "stdout",
     "output_type": "stream",
     "text": [
      "[['The', 'Fulton', 'County', 'Grand', 'Jury', 'said', 'Friday', 'an', 'investigation', 'of', \"Atlanta's\", 'recent', 'primary', 'election', 'produced', '``', 'no', 'evidence', \"''\", 'that', 'any', 'irregularities', 'took', 'place', '.'], ['The', 'jury', 'further', 'said', 'in', 'term-end', 'presentments', 'that', 'the', 'City', 'Executive', 'Committee', ',', 'which', 'had', 'over-all', 'charge', 'of', 'the', 'election', ',', '``', 'deserves', 'the', 'praise', 'and', 'thanks', 'of', 'the', 'City', 'of', 'Atlanta', \"''\", 'for', 'the', 'manner', 'in', 'which', 'the', 'election', 'was', 'conducted', '.'], ...]\n"
     ]
    }
   ],
   "source": [
    "\n",
    "from nltk.corpus import brown\n",
    "from gensim.models import Word2Vec\n",
    " \n",
    "print(brown.sents())"
   ]
  },
  {
   "cell_type": "code",
   "execution_count": 25,
   "metadata": {},
   "outputs": [],
   "source": [
    "w2v_model = Word2Vec(brown.sents(), size=128, window=5, min_count=3, workers=4)"
   ]
  },
  {
   "cell_type": "code",
   "execution_count": 27,
   "metadata": {},
   "outputs": [
    {
     "name": "stdout",
     "output_type": "stream",
     "text": [
      "[-0.02081076  0.07570831 -0.21166863 -0.06444181  0.21050367 -0.0364009\n",
      " -0.0123893  -0.07014219 -0.15599751  0.2446062   0.05276735  0.19225773\n",
      " -0.05219244 -0.07555346 -0.22981763 -0.16818862  0.00441791  0.02323041\n",
      "  0.12504594 -0.2089865  -0.35390446 -0.01827234  0.01953994 -0.00435028\n",
      "  0.00592774 -0.3170879   0.09845258 -0.03323952  0.01095277 -0.12455764\n",
      "  0.19476725 -0.01568806  0.28013602  0.17805026  0.06116133 -0.24347061\n",
      " -0.25325006 -0.17425905  0.15148753  0.00140098 -0.10768758  0.18015094\n",
      "  0.04546037 -0.15480538  0.01234142 -0.09719224  0.0418223   0.19678473\n",
      "  0.05113938 -0.0255454  -0.17355363  0.02302892  0.20259151 -0.11350469\n",
      " -0.11553489  0.1667355  -0.0378704   0.02951697  0.23241031  0.09143706\n",
      " -0.05962963 -0.13352217  0.10056148  0.01735753  0.05870957  0.09504703\n",
      " -0.12122308  0.09838512  0.10920406 -0.30563354 -0.10352276 -0.13720088\n",
      "  0.05207408  0.00500447 -0.07967107 -0.02216007 -0.1780931  -0.31207478\n",
      "  0.03413424  0.23540592 -0.12467815 -0.01318093 -0.16954719 -0.19404249\n",
      "  0.11933112 -0.1928224  -0.43077475  0.00130936 -0.16514386 -0.13400458\n",
      "  0.11556125 -0.32365158 -0.11279468  0.1691953   0.08230536 -0.12972565\n",
      " -0.07666559  0.18707581 -0.0760038  -0.39840823  0.07238598 -0.15641999\n",
      "  0.09791682  0.16174673 -0.04243122  0.11359931 -0.01352024 -0.15023293\n",
      " -0.16463251 -0.19282816  0.01782058  0.21549207 -0.2178474   0.18972214\n",
      " -0.09210595  0.21061948 -0.14786306  0.05569701 -0.08247536 -0.12070248\n",
      "  0.19362223  0.34094122 -0.11153322 -0.18311952  0.12989686 -0.02548686\n",
      " -0.13741477 -0.22880775]\n"
     ]
    }
   ],
   "source": [
    "print(w2v_model.wv['Italy'])"
   ]
  },
  {
   "cell_type": "code",
   "execution_count": 28,
   "metadata": {},
   "outputs": [
    {
     "name": "stdout",
     "output_type": "stream",
     "text": [
      "[('Italy', 0.9755375981330872), ('France', 0.9639281034469604), ('Rome', 0.9633758664131165), ('headquarters', 0.9626168012619019), ('Eugene', 0.960681676864624), ('dancing', 0.9601831436157227), ('London', 0.9595887660980225), ('breakfast', 0.9584687948226929), ('Chicago', 0.9566220641136169), ('Harvard', 0.9564396142959595)]\n"
     ]
    }
   ],
   "source": [
    "print(w2v_model.wv.most_similar('Paris'))"
   ]
  },
  {
   "cell_type": "code",
   "execution_count": 19,
   "metadata": {},
   "outputs": [
    {
     "name": "stdout",
     "output_type": "stream",
     "text": [
      "[('extracting', 0.9592227935791016), ('united', 0.9572341442108154), ('savage', 0.9529606699943542), ('duties', 0.9526975154876709), ('agility', 0.9448084831237793), ('stem', 0.9440701007843018), ('patronage', 0.9433404207229614), ('Colonial', 0.9428447484970093), ('successors', 0.9426485300064087), ('abuse', 0.9413770437240601)]\n"
     ]
    }
   ],
   "source": [
    "print(w2v_model.wv.most_similar(positive=['woman', 'king'], negative=['man']))"
   ]
  },
  {
   "cell_type": "code",
   "execution_count": 20,
   "metadata": {},
   "outputs": [
    {
     "name": "stdout",
     "output_type": "stream",
     "text": [
      "[('earth', 0.9420216679573059), ('reputed', 0.9386364817619324), ('beach', 0.9385895729064941), ('sink', 0.9371185302734375), ('metaphors', 0.9353013038635254), ('grounds', 0.9330753684043884), ('Church', 0.9302911162376404), ('planks', 0.930212676525116), ('airfield', 0.9301479458808899), ('transformed', 0.9298617839813232)]\n"
     ]
    }
   ],
   "source": [
    "print(w2v_model.wv.most_similar(positive=[\"Rome\", \"France\"], negative=[\"Italy\"]))"
   ]
  },
  {
   "cell_type": "code",
   "execution_count": 21,
   "metadata": {},
   "outputs": [],
   "source": [
    "from gensim.models.word2vec import Text8Corpus"
   ]
  },
  {
   "cell_type": "code",
   "execution_count": 29,
   "metadata": {
    "scrolled": true
   },
   "outputs": [
    {
     "name": "stdout",
     "output_type": "stream",
     "text": [
      "[('Italy', 0.9755375981330872), ('France', 0.9639281034469604), ('Rome', 0.9633758664131165), ('headquarters', 0.9626168012619019), ('Eugene', 0.960681676864624), ('dancing', 0.9601831436157227), ('London', 0.9595887660980225), ('breakfast', 0.9584687948226929), ('Chicago', 0.9566220641136169), ('Harvard', 0.9564396142959595)]\n"
     ]
    }
   ],
   "source": [
    "print(w2v_model.wv.most_similar('Paris'))"
   ]
  },
  {
   "cell_type": "code",
   "execution_count": null,
   "metadata": {},
   "outputs": [],
   "source": []
  }
 ],
 "metadata": {
  "kernelspec": {
   "display_name": "Python 3",
   "language": "python",
   "name": "python3"
  },
  "language_info": {
   "codemirror_mode": {
    "name": "ipython",
    "version": 3
   },
   "file_extension": ".py",
   "mimetype": "text/x-python",
   "name": "python",
   "nbconvert_exporter": "python",
   "pygments_lexer": "ipython3",
   "version": "3.6.5"
  }
 },
 "nbformat": 4,
 "nbformat_minor": 2
}
